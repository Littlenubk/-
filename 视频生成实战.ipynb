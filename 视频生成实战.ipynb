{
 "cells": [
  {
   "cell_type": "code",
   "execution_count": 40,
   "id": "632fdf92-fa60-4795-b19a-47f84c3d28da",
   "metadata": {},
   "outputs": [
    {
     "name": "stdout",
     "output_type": "stream",
     "text": [
      "VideoObject(id='694517320711803309216576814966140365', model='cogvideox', video_result=None, task_status='PROCESSING', request_id='9216576814966140364')\n"
     ]
    }
   ],
   "source": [
    "from zhipuai import ZhipuAI\n",
    "client =ZhipuAI(api_key=\"e5f99a8cdbbef7c587e758ab8d55ff43.MKIRgkRelYwXtNBx\")\n",
    "response = client.videos.generations(\n",
    "    model = \"cogvideox\",\n",
    "    prompt =\"生成一个别墅正对着川西美丽景色，并日照金山且分辨率达到1080p的视频\"\n",
    ")\n",
    "print(response)"
   ]
  },
  {
   "cell_type": "code",
   "execution_count": 48,
   "id": "faaabf28-8e84-4bb7-9020-990cb499b046",
   "metadata": {},
   "outputs": [
    {
     "name": "stdout",
     "output_type": "stream",
     "text": [
      "VideoObject(id=None, model='cogvideox', video_result=[VideoResult(url='https://aigc-files.bigmodel.cn/api/cogvideo/d4be43c8-a7a9-11ef-a354-628f45da38f5_0.mp4', cover_image_url='https://aigc-files.bigmodel.cn/api/cogvideo/d4be43c8-a7a9-11ef-a354-628f45da38f5_cover_0.jpeg')], task_status='SUCCESS', request_id='9216576814966140364')\n"
     ]
    }
   ],
   "source": [
    "from zhipuai import ZhipuAI\n",
    "client =ZhipuAI(api_key=\"e5f99a8cdbbef7c587e758ab8d55ff43.MKIRgkRelYwXtNBx\")\n",
    "response = client.videos.retrieve_videos_result(\n",
    "    id=\"694517320711803309216576814966140365\"\n",
    ")\n",
    "print(response)"
   ]
  },
  {
   "cell_type": "code",
   "execution_count": null,
   "id": "376c59ed-972e-408c-a5f6-0aa311f0c1af",
   "metadata": {},
   "outputs": [],
   "source": []
  },
  {
   "cell_type": "code",
   "execution_count": null,
   "id": "d10d493a-e618-4ba5-8edc-474f137294ef",
   "metadata": {},
   "outputs": [],
   "source": []
  },
  {
   "cell_type": "code",
   "execution_count": null,
   "id": "028a1fb3-b7a8-4778-ad53-0b369ee24028",
   "metadata": {},
   "outputs": [],
   "source": []
  },
  {
   "cell_type": "code",
   "execution_count": null,
   "id": "5e47e65c-58cb-404f-b124-87ffb976fba9",
   "metadata": {},
   "outputs": [],
   "source": []
  }
 ],
 "metadata": {
  "kernelspec": {
   "display_name": "Python 3 (ipykernel)",
   "language": "python",
   "name": "python3"
  },
  "language_info": {
   "codemirror_mode": {
    "name": "ipython",
    "version": 3
   },
   "file_extension": ".py",
   "mimetype": "text/x-python",
   "name": "python",
   "nbconvert_exporter": "python",
   "pygments_lexer": "ipython3",
   "version": "3.9.13"
  }
 },
 "nbformat": 4,
 "nbformat_minor": 5
}
